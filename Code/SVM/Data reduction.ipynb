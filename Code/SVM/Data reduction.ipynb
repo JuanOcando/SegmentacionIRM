{
 "cells": [
  {
   "cell_type": "markdown",
   "metadata": {},
   "source": [
    "## Reduccion de datos aplicando K-Means y FDA \n",
    "\n",
    "Primero vamos a dividir el dataset en N-subgrupos"
   ]
  },
  {
   "cell_type": "code",
   "execution_count": 11,
   "metadata": {},
   "outputs": [
    {
     "name": "stdout",
     "output_type": "stream",
     "text": [
      "(8599476,)\n",
      "(8599476, 4)\n",
      "[0. 0. 0. ... 0. 0. 0.]\n",
      "(8180534, 5)\n"
     ]
    }
   ],
   "source": [
    "import pandas as pd  \n",
    "import numpy as np  \n",
    "import matplotlib.pyplot as plt  \n",
    "%matplotlib inline\n",
    "\n",
    "from sklearn.kernel_approximation import RBFSampler\n",
    "from sklearn.preprocessing import StandardScaler\n",
    "from sklearn.svm import SVC  \n",
    "from sklearn.linear_model import SGDClassifier\n",
    "\n",
    "from sklearn.cluster import MiniBatchKMeans\n",
    "\n",
    "\"\"\"\n",
    "Cargando datos de train y test\n",
    "Cada uno cumple con la condicion de no tener muestras nulas.\n",
    "\"\"\"\n",
    "train = pd.read_csv('wtf2.csv')\n",
    "DATA = train.drop(['NAME'], axis=1).values\n",
    "\n",
    "test = pd.read_csv('test2.csv')\n",
    "dat = test.drop(['NAME'], axis=1).values\n",
    "\n",
    "DATA = np.concatenate((DATA,dat),axis = 0)\n",
    "\n",
    "\n",
    "\"\"\"\n",
    "sets = 100\n",
    "DATA = np.array_split(DATA, sets)\n",
    "\n",
    "#INICIALIZACION DE VARIABLES\n",
    "X = np.empty((sets,DATA[0].shape[0],4))\n",
    "Y = np.empty((sets,DATA[0].shape[0]))\n",
    "j = 0 \n",
    "\n",
    "#VAMOS A SEPARAR LOS DATOS EN N sets X y Y\n",
    "for i in DATA:\n",
    "\n",
    "    while i.shape[0] > DATA[0].shape[0]:\n",
    "        i = i[1:,]\n",
    " \n",
    "    while i.shape[0] < DATA[0].shape[0]:\n",
    "        i = np.append(i,[[0,0,0,0,0]],axis = 0)\n",
    "    \n",
    "    X[j] = i[:,0:4]    \n",
    "    Y[j] = i[:,4]\n",
    "    \n",
    "    j = j+1\n",
    "    \n",
    "##Aplicamos el gradient descend de manera provisional\n",
    "\n",
    "\"\"\"\n",
    "#clf = SGDClassifier(max_iter=300,class_weight = \"balanced\")\n",
    "clf = SGDClassifier(max_iter=5)\n",
    "\n",
    "\n",
    "\n",
    "\n",
    "#APLICADO EN EL DATA SET TOTAL\n",
    "#scaler.fit(train.drop(['NAME','RES'], axis=1).values) \n",
    "#clf.fit(scaler.transform(train.drop(['NAME','RES'], axis=1).values),train['RES'])\n",
    "\n",
    "#Aplicado en solamente un particion (datos de entrenamiento)\n",
    "\n",
    "\n",
    "#Retirar las etiquetas por un monmento\n",
    "#Transformar Los datos\n",
    "#Poner de nuevo las etiquetas\n",
    "\n",
    "scaler = StandardScaler()\n",
    "labels = DATA[:,4]\n",
    "X = scaler.fit_transform(DATA[:,:4])\n",
    "X = np.concatenate((X,labels[:,None]),axis = 1)\n",
    "\n",
    "#Eliminar outliers\n",
    "X= X[np.where((-3 <= X[:,0]) & (X[:,0] <= 3)\n",
    "       & (-3 <= X[:,1]) & (X[:,1] <= 3)\n",
    "       & (-3 <= X[:,2]) & (X[:,2] <= 3)                                         \n",
    "       & (-3 <= X[:,3]) & (X[:,3] <= 3))]\n",
    "\n",
    "#Entrenar SGD\n",
    "clf.fit(X[:,:4],X[:,4])\n"
   ]
  },
  {
   "cell_type": "markdown",
   "metadata": {},
   "source": [
    "Aplicacion de MiniBatch -K - Means en el conjunto de datos una vez se han estandarizado los datos y eliminado los outliers."
   ]
  },
  {
   "cell_type": "code",
   "execution_count": 18,
   "metadata": {
    "collapsed": true
   },
   "outputs": [
    {
     "data": {
      "text/plain": [
       "array([[-0.32247   , -0.28340232, -0.80603951, -0.3564452 ],\n",
       "       [ 0.07840037,  0.19181621,  0.71109219,  0.43911671],\n",
       "       [ 1.57354713,  1.7627016 ,  1.27343956,  1.58401222],\n",
       "       [-0.39128573, -0.26373361,  0.45212489, -0.6745714 ],\n",
       "       [-0.37625098, -0.27570641, -0.54510294, -0.75176734],\n",
       "       [ 0.05435786,  0.36396371,  2.21545376,  0.50188582],\n",
       "       [ 0.578171  , -0.02316387,  0.05637005,  1.09968624],\n",
       "       [-0.08606244,  0.14894873, -0.11004839,  0.52309762],\n",
       "       [-0.55106608, -0.49810247,  2.36555646, -0.90859423],\n",
       "       [-0.24332221, -0.24569833,  1.21270161,  0.80973104],\n",
       "       [-0.05621663, -0.03596125, -0.00315703, -0.45470608],\n",
       "       [-0.03067454, -0.36399365,  0.83370335,  1.87467818],\n",
       "       [-0.41414002, -0.81193434, -0.66723757, -0.74338266],\n",
       "       [ 0.74574402,  1.16766927,  1.43904829,  1.05951637],\n",
       "       [-0.189575  , -0.16487333, -0.94139   , -0.70391097],\n",
       "       [-0.02713416,  0.08047188, -0.87059013,  0.46820078],\n",
       "       [ 0.07982849,  0.29248564,  0.57765964,  1.3279988 ],\n",
       "       [-0.33800821, -0.38071358, -0.00477598,  0.28478999],\n",
       "       [ 0.28052865,  0.34457055,  0.75600654,  2.13269353],\n",
       "       [-0.3571981 , -0.2986824 , -0.21776832, -0.62521923],\n",
       "       [-0.20145324, -0.09433256, -0.57652418,  1.63178253],\n",
       "       [-0.44311501, -0.77999483,  0.68063131, -0.32556175],\n",
       "       [-0.52689563, -0.79163473, -0.09965294, -0.30404496],\n",
       "       [ 0.59460301,  0.6534693 ,  0.06364847,  0.42949201],\n",
       "       [-0.57233548, -0.45834993, -0.63288142, -0.92628542],\n",
       "       [ 0.22425707,  0.18766197, -0.1435446 , -0.18425177],\n",
       "       [-0.56400912, -0.53160192,  1.1719456 , -1.03468735],\n",
       "       [-0.03666284, -0.50131321,  0.21022655,  0.91890971],\n",
       "       [-0.26293295, -0.20393592, -0.10913814, -0.12582004],\n",
       "       [ 0.31746274,  0.82392974,  0.78851435,  0.35497902],\n",
       "       [-0.31564064,  1.19615496, -0.68395529, -0.79668044],\n",
       "       [-0.59681873, -0.60210643, -0.00748144, -1.08941248],\n",
       "       [ 1.24815389, -0.35140447, -0.51359067, -0.11545402],\n",
       "       [ 2.01041152,  2.29242063,  1.88894067,  2.31160966],\n",
       "       [-0.32017867, -0.17792062,  1.51078583, -0.28234734],\n",
       "       [ 0.16191544,  0.67685229,  1.95637716,  2.38758708],\n",
       "       [-0.83061811, -0.774479  , -0.9444544 , -1.20029649],\n",
       "       [-0.32294196, -0.28664001,  0.54919425,  0.21918901],\n",
       "       [ 1.58227555,  1.42585374,  0.43709758,  0.8178249 ],\n",
       "       [-0.28575079, -0.23947749, -0.6382718 ,  0.83334929],\n",
       "       [ 2.17783634,  0.74074631,  0.73040146,  2.29925383],\n",
       "       [-0.08437636,  0.14255191,  0.45202399, -0.16856933],\n",
       "       [-0.03758507, -0.03422532, -0.87376778, -0.22172707],\n",
       "       [ 0.28078757, -0.36244557, -0.16313863,  0.25450109],\n",
       "       [ 0.40329768,  1.03746784,  0.15290924,  2.3282912 ],\n",
       "       [-0.11922652, -0.12965885,  1.87729355,  1.56907187],\n",
       "       [-0.32302783, -0.27310824, -0.65849685,  0.14636462],\n",
       "       [ 1.79399327,  1.15090651,  2.21447159,  1.73307703],\n",
       "       [-0.04248673, -0.05437892, -0.37079516, -0.70905808],\n",
       "       [ 0.09086036,  0.03914813, -0.95157756, -0.60342154]])"
      ]
     },
     "execution_count": 18,
     "metadata": {},
     "output_type": "execute_result"
    }
   ],
   "source": [
    "num_clusters = 50\n",
    "\n",
    "kmeans = MiniBatchKMeans(n_clusters=num_clusters,\n",
    "        max_iter=200,\n",
    "        batch_size=num_clusters * 1000)\n",
    "kmeans = kmeans.fit(X[:,:4])\n",
    "kmeans.cluster_centers_"
   ]
  },
  {
   "cell_type": "code",
   "execution_count": 19,
   "metadata": {},
   "outputs": [
    {
     "name": "stdout",
     "output_type": "stream",
     "text": [
      "[0.94146903 0.7216644  0.81107158 0.92861654 0.96994872 0.71731222\n",
      " 0.78287875 0.86720242 0.9886362  0.20918408 0.92961313 0.13143228\n",
      " 0.95087459 0.75578956 0.99364707 0.76539987 0.60710984 0.65067033\n",
      " 0.59466527 0.90519008 0.30861751 0.63175437 0.69689895 0.9764567\n",
      " 0.96824953 0.9747094  0.96358529 0.54074313 0.77853077 0.72846675\n",
      " 0.95058698 0.98735575 0.90811017 0.88842813 0.86080345 0.15481836\n",
      " 0.95117349 0.4795406  0.98365485 0.48853733 0.95680188 0.76760667\n",
      " 0.91169346 0.96035185 0.83613201 0.17558336 0.68719226 0.92341769\n",
      " 0.99360325 0.99598128]\n"
     ]
    }
   ],
   "source": [
    "\n",
    "#Pegar todo en una nueva matriz de datos, etiquetas de clusters, distancia a la frontera\n",
    "Eureka = np.c_[X, kmeans.labels_ , clf.decision_function(X[:,:4])]\n",
    "\n",
    "#Ordenar segun las etiquetas\n",
    "coucou = Eureka[Eureka[:,5].argsort()]\n",
    "\n",
    "\n",
    "Unit = np.array([])\n",
    "lastcluster = coucou[0,5]\n",
    "ones = 0\n",
    "zeros = 0\n",
    "\n",
    "#Calcular proporciones\n",
    "for i in range(num_clusters):\n",
    "    \n",
    "    aux = coucou[coucou[:,5] == i]\n",
    "    ones = aux[aux[:,4] == 1].shape[0]\n",
    "    zeros = aux[aux[:,4] == 0].shape[0]\n",
    "    \n",
    "    Unit = np.append(Unit,zeros/(ones+zeros)) \n",
    "    \n",
    "print(Unit)"
   ]
  },
  {
   "cell_type": "code",
   "execution_count": 52,
   "metadata": {},
   "outputs": [
    {
     "name": "stdout",
     "output_type": "stream",
     "text": [
      "[[[None None None]]\n",
      "\n",
      " [[0.0 0.0 2.428383017413505]]]\n"
     ]
    }
   ],
   "source": [
    "xd = coucou[:,5] == 1\n",
    "\n",
    "\n",
    "print(MC)"
   ]
  },
  {
   "cell_type": "code",
   "execution_count": 65,
   "metadata": {},
   "outputs": [
    {
     "name": "stdout",
     "output_type": "stream",
     "text": [
      "UC\n",
      "[[0.0 0.0 1.3947010815916987]\n",
      " [3.0 0.0 1.3722448736408128]\n",
      " [4.0 0.0 1.644089077740325]\n",
      " [8.0 0.0 0.9803961807085112]\n",
      " [10.0 0.0 1.74547211687131]\n",
      " [12.0 0.0 1.5703931146733954]\n",
      " [14.0 0.0 1.9438271671062222]\n",
      " [19.0 0.0 1.4895852071919147]\n",
      " [23.0 0.0 1.929450238092637]\n",
      " [24.0 0.0 1.5096980698742972]\n",
      " [25.0 0.0 2.000812140571102]\n",
      " [26.0 0.0 1.2923417678904603]\n",
      " [30.0 0.0 1.9347778443201058]\n",
      " [31.0 0.0 1.5013710787199896]\n",
      " [32.0 0.0 3.55138164393285]\n",
      " [36.0 0.0 1.4154424531635192]\n",
      " [38.0 0.0 3.057255625370104]\n",
      " [40.0 0.0 2.4612850127562047]\n",
      " [42.0 0.0 1.7183179050905408]\n",
      " [43.0 0.0 1.576608224644906]\n",
      " [47.0 0.0 2.20855529830647]\n",
      " [48.0 0.0 2.0827698193282074]\n",
      " [49.0 0.0 2.2788433553435814]]\n",
      "MC\n",
      "[[1.0 0.0 1.1186941064990992]\n",
      " [1.0 1.0 0.7527360045903274]\n",
      " [2.0 0.0 2.2787851609019905]\n",
      " [2.0 1.0 1.835186967647083]\n",
      " [5.0 0.0 0.8525796395950367]\n",
      " [5.0 1.0 0.40984603584556456]\n",
      " [6.0 0.0 1.2239336347659815]\n",
      " [6.0 1.0 1.381918710279417]\n",
      " [7.0 0.0 0.8535193732552051]\n",
      " [7.0 1.0 0.5785683597096881]\n",
      " [9.0 0.0 0.37400733353977617]\n",
      " [9.0 1.0 0.29861733003591173]\n",
      " [11.0 0.0 0.5733824509688565]\n",
      " [11.0 1.0 0.666805213246697]\n",
      " [13.0 0.0 1.5014537120629454]\n",
      " [13.0 1.0 0.892014759542366]\n",
      " [15.0 0.0 1.1309860120583806]\n",
      " [15.0 1.0 0.8669800561397919]\n",
      " [16.0 0.0 0.3708110129367851]\n",
      " [16.0 1.0 0.34069557427534664]\n",
      " [17.0 0.0 0.6490918354267181]\n",
      " [17.0 1.0 0.5130169815649576]\n",
      " [18.0 0.0 0.44799397531003704]\n",
      " [18.0 1.0 0.6236597760764763]\n",
      " [20.0 0.0 0.33902236887481874]\n",
      " [20.0 1.0 0.576667417471908]\n",
      " [21.0 0.0 0.9729693904779468]\n",
      " [21.0 1.0 0.7140363598035021]\n",
      " [22.0 0.0 0.9424564426686366]\n",
      " [22.0 1.0 0.6899888920050596]\n",
      " [27.0 0.0 0.6193083876641627]\n",
      " [27.0 1.0 0.2966802011075334]\n",
      " [28.0 0.0 1.1737975447767675]\n",
      " [28.0 1.0 0.9975574382285073]\n",
      " [29.0 0.0 1.6610970445211601]\n",
      " [29.0 1.0 0.898002650664586]\n",
      " [33.0 0.0 2.1935954517405123]\n",
      " [33.0 1.0 1.0773804672083216]\n",
      " [34.0 0.0 0.9813514450410328]\n",
      " [34.0 1.0 0.5024118168749878]\n",
      " [35.0 0.0 0.4121394393639351]\n",
      " [35.0 1.0 1.1277349827379313]\n",
      " [37.0 0.0 0.6659801909111219]\n",
      " [37.0 1.0 0.5028314965464556]\n",
      " [39.0 0.0 0.3523173494005557]\n",
      " [39.0 1.0 0.28285445916712815]\n",
      " [41.0 0.0 1.4254491837951764]\n",
      " [41.0 1.0 1.0769571872842412]\n",
      " [44.0 0.0 0.5820028251887385]\n",
      " [44.0 1.0 0.5912273289712453]\n",
      " [45.0 0.0 0.37982631023433144]\n",
      " [45.0 1.0 0.7851480638630203]\n",
      " [46.0 0.0 0.8888708439131388]\n",
      " [46.0 1.0 0.8060875561784728]]\n"
     ]
    },
    {
     "data": {
      "text/plain": [
       "'\\n\\n#Eureka = np.c_[scaler.transform(X[0]) , Y[0], kmeans.labels_ , clf.decision_function(scaler.transform(X[0]))]\\nthreshold = 0.10\\n\\n#Dummy data to erase afterwards\\nuc = np.array([[0,0,0,0,0,0,0],[0,0,0,0,0,0,0]])\\nmc0 = np.array([[0,0,0,0,0,0,0],[0,0,0,0,0,0,0]])\\nmc1 = np.array([[0,0,0,0,0,0,0],[0,0,0,0,0,0,0]])\\n\\n\\nfor percent in range(len(Unit)):\\n    if(Unit[percent] < threshold or Unit[percent] > 1 - threshold):\\n        uc = np.append(uc,coucou[coucou[:,5] == percent], axis = 0)\\n        print(\"xd\")\\n    else:\\n        aux = coucou[coucou[:,5] == percent]\\n        mc0 = np.append(mc0,aux[aux[:,4] == 0], axis = 0)\\n        mc1 = np.append(mc1,aux[aux[:,4] == 1], axis = 0)\\n\\n        \\n#Erasing dummy data\\n\\n\\nuc = uc[2:,:]\\nmc0 = mc0[2:,:]\\nmc1 = mc1[2:,:]\\n'"
      ]
     },
     "execution_count": 65,
     "metadata": {},
     "output_type": "execute_result"
    }
   ],
   "source": [
    "threshold = 0.10\n",
    "\n",
    "UC = np.array([[None,None,None]])\n",
    "MC = np.array([[None,None,None]])\n",
    "\n",
    "for i in range(len(Unit)):\n",
    "    aux = coucou[coucou[:,5] == i]\n",
    "    \n",
    "    if(Unit[i] < 0.05):\n",
    "        UC = np.concatenate((UC,[[i,1,np.mean((np.absolute(coucou[np.logical_and( coucou[:,5] == i, coucou[:,4] == 1),6])))]]),axis = 0)\n",
    "    elif(1 - threshold < Unit[i]):\n",
    "        UC = np.concatenate((UC,[[i,0,np.mean((np.absolute(coucou[np.logical_and( coucou[:,5] == i, coucou[:,4] == 0),6])))]]),axis = 0)\n",
    "    else:\n",
    "        MC = np.concatenate((MC,[[i,0,np.mean((np.absolute(coucou[np.logical_and( coucou[:,5] == i, coucou[:,4] == 0),6])))]]),axis = 0)\n",
    "        MC = np.concatenate((MC,[[i,1,np.mean((np.absolute(coucou[np.logical_and( coucou[:,5] == i, coucou[:,4] == 1),6])))]]),axis = 0)\n",
    "\n",
    "UC = UC[1:,:]\n",
    "MC = MC[1:,:]\n",
    "\n",
    "print(\"UC\")\n",
    "print(UC)\n",
    "print(\"MC\")\n",
    "print(MC)\n",
    "\n",
    "\n",
    "\"\"\"\n",
    "\n",
    "#Eureka = np.c_[scaler.transform(X[0]) , Y[0], kmeans.labels_ , clf.decision_function(scaler.transform(X[0]))]\n",
    "threshold = 0.10\n",
    "\n",
    "#Dummy data to erase afterwards\n",
    "uc = np.array([[0,0,0,0,0,0,0],[0,0,0,0,0,0,0]])\n",
    "mc0 = np.array([[0,0,0,0,0,0,0],[0,0,0,0,0,0,0]])\n",
    "mc1 = np.array([[0,0,0,0,0,0,0],[0,0,0,0,0,0,0]])\n",
    "\n",
    "\n",
    "for percent in range(len(Unit)):\n",
    "    if(Unit[percent] < threshold or Unit[percent] > 1 - threshold):\n",
    "        uc = np.append(uc,coucou[coucou[:,5] == percent], axis = 0)\n",
    "        print(\"xd\")\n",
    "    else:\n",
    "        aux = coucou[coucou[:,5] == percent]\n",
    "        mc0 = np.append(mc0,aux[aux[:,4] == 0], axis = 0)\n",
    "        mc1 = np.append(mc1,aux[aux[:,4] == 1], axis = 0)\n",
    "\n",
    "        \n",
    "#Erasing dummy data\n",
    "\n",
    "\n",
    "uc = uc[2:,:]\n",
    "mc0 = mc0[2:,:]\n",
    "mc1 = mc1[2:,:]\n",
    "\"\"\""
   ]
  },
  {
   "cell_type": "code",
   "execution_count": 82,
   "metadata": {},
   "outputs": [
    {
     "name": "stdout",
     "output_type": "stream",
     "text": [
      "1.6610970445211601\n",
      "[10.0 14.0 23.0 25.0 30.0 32.0 38.0 40.0 42.0 47.0 48.0 49.0]\n",
      "[ 0.  1.  2.  3.  4.  5.  6.  7.  8.  9. 11. 12. 13. 15. 16. 17. 18. 19.\n",
      " 20. 21. 22. 24. 26. 27. 28. 29. 31. 33. 34. 35. 36. 37. 39. 41. 43. 44.\n",
      " 45. 46.]\n",
      "(6147241, 7)\n"
     ]
    },
    {
     "data": {
      "text/plain": [
       "(4829051, 7)"
      ]
     },
     "execution_count": 82,
     "metadata": {},
     "output_type": "execute_result"
    }
   ],
   "source": [
    "wtf = MC[MC[:,1]==0,2].flatten()\n",
    "wtf.sort()\n",
    "print(wtf[-3])\n",
    "\n",
    "maxmc = wtf[-3]\n",
    "\n",
    "out = UC[UC[:,2] > maxmc,0]\n",
    "\n",
    "final = coucou\n",
    "\n",
    "for i in range(len(out)):\n",
    "    final = final[final[:,5] != out[i]]\n",
    "print(out)\n",
    "print(np.unique(final[:,5]))\n",
    "rest = np.unique(final[:,5])\n",
    "print(final.shape)\n",
    "aftercluster = final\n",
    "\n",
    "aftercluster[aftercluster[:,4] == 0].shape"
   ]
  },
  {
   "cell_type": "code",
   "execution_count": 88,
   "metadata": {},
   "outputs": [
    {
     "data": {
      "text/plain": [
       "(1385578, 5)"
      ]
     },
     "execution_count": 88,
     "metadata": {},
     "output_type": "execute_result"
    }
   ],
   "source": [
    "X[X[:,4] == 1].shape"
   ]
  },
  {
   "cell_type": "code",
   "execution_count": 89,
   "metadata": {},
   "outputs": [],
   "source": [
    "aftercluster = aftercluster[:,:-1]\n",
    "pd.DataFrame(aftercluster).to_csv(\"filecluster.csv\")"
   ]
  },
  {
   "cell_type": "code",
   "execution_count": 3,
   "metadata": {},
   "outputs": [],
   "source": [
    "import pandas as pd  \n",
    "import numpy as np  \n",
    "import matplotlib.pyplot as plt  \n",
    "%matplotlib inline\n",
    "\n",
    "leftover = [ 0. , 1.,  2.,  3. , 4. , 5. , 6. , 7.,  8.,  9., 11. ,12., 13., 15., 16., 17., 18., 19.,\n",
    " 20., 21. ,22. ,24.,26., 27., 28., 29., 31., 33., 34., 35., 36., 37. ,39., 41., 43., 44.,\n",
    " 45., 46.]\n",
    "\n",
    "aftercluster = pd.read_csv('filecluster.csv').values"
   ]
  },
  {
   "cell_type": "code",
   "execution_count": 5,
   "metadata": {},
   "outputs": [],
   "source": [
    "afterclusters = aftercluster[1:,1:7].copy()"
   ]
  },
  {
   "cell_type": "code",
   "execution_count": 52,
   "metadata": {},
   "outputs": [
    {
     "name": "stdout",
     "output_type": "stream",
     "text": [
      "0\n",
      "69752\n",
      "30001\n"
     ]
    }
   ],
   "source": [
    "from math import log10 , floor, isnan\n",
    "\n",
    "hollow = np.array([[None,None,None, None,None,None]])\n",
    "visits = np.array([[None,None,None,None,None,None,None,None]])\n",
    "#iterar en los clusters que quedan\n",
    "for i in [21]:\n",
    "    for j in [0]:\n",
    "        #Query para obtener las filas pertenecientes a clase 0 \n",
    "        #y las filas pertenecientes al cluster actual \n",
    "        aux = afterclusters[np.logical_and(afterclusters[:,4] == j , afterclusters[:,5] == i)]\n",
    "        print(j)\n",
    "        #Recalcular el centro del cluster y repetirlo n veces\n",
    "        centro = np.array([[np.mean(aux[:,0]),np.mean(aux[:,1]),np.mean(aux[:,2]),np.mean(aux[:,3])]])\n",
    "        centro = np.repeat(centro, aux.shape[0], axis=0) \n",
    "\n",
    "        #Calcular las distancias euclideas al centro\n",
    "        dist = aux[:,:4].copy() - centro\n",
    "        dist = np.power(dist,2)\n",
    "        #print(dist)\n",
    "        dist = np.sum(dist,axis=1)\n",
    "        #print(dist)\n",
    "        dist = np.power(dist,0.5)\n",
    "\n",
    "        #Reemplazar el tag del cluster por las distancias y ordenar\n",
    "        aux[:,5] = dist\n",
    "        aux = aux[aux[:,5].argsort()]\n",
    "\n",
    "\n",
    "        mg = floor(log10(aux.shape[0]))\n",
    "        IM = mg \n",
    "\n",
    "        Bmin = 1\n",
    "        Bmax = aux.shape[0]\n",
    "\n",
    "\n",
    "        didi = aux[:,5].copy()\n",
    "\n",
    "\n",
    "        maxi = np.array([[1,999990],[1,999990]]).astype(float)\n",
    "\n",
    "        SL = int(10 ** (floor(log10(Bmax - Bmin +1))+1))    \n",
    "\n",
    "        print(Bmax)\n",
    "\n",
    "        for IL in range(IM):\n",
    "\n",
    "            #Update step lenght\n",
    "\n",
    "            SL = int(SL/10)\n",
    "            \n",
    "            for R in range(Bmin,Bmax,SL):\n",
    "\n",
    "                R = int(R)\n",
    "\n",
    "                clustered = didi[:R]\n",
    "                sparsed = didi[R:]\n",
    "                \n",
    "                #print(hola)\n",
    "                val = np.array([ float(R), float(((np.mean(clustered) - np.mean(sparsed) ) )**2 / (np.var(clustered) + np.var(sparsed)) ) ] )\n",
    "                visits = np.concatenate((visits,[[R, np.mean(clustered) ,  np.mean(sparsed) , np.var(clustered) , np.var(sparsed) ,(np.mean(clustered) - np.mean(sparsed)), np.var(clustered) + np.var(sparsed), val[1] ]] ),axis = 0 )\n",
    "                if(val[1]  < maxi[0,1]):\n",
    "                    maxi[1] = maxi[0].copy()\n",
    "                    maxi[0] = val\n",
    "                \n",
    "                elif(val[1] < maxi[1,1]):\n",
    "                    maxi[1] = val.copy()\n",
    "            \n",
    "            if(maxi[0,0] < maxi[1,0]):\n",
    "                Bmax = int(maxi[1,0])\n",
    "                Bmin = int(maxi[0,0])\n",
    "            else:\n",
    "                Bmax = int(maxi[0,0])\n",
    "                Bmin = int(maxi[1,0])\n",
    "        \n",
    "        print(Bmax)\n",
    "        hollow = np.concatenate((hollow,aux[Bmax:]),axis=0)"
   ]
  },
  {
   "cell_type": "code",
   "execution_count": 81,
   "metadata": {},
   "outputs": [
    {
     "name": "stdout",
     "output_type": "stream",
     "text": [
      "(2837983, 6)\n"
     ]
    }
   ],
   "source": [
    "print(hollow[hollow[:,4] == 0].shape)\n",
    "#pd.DataFrame(hollow).to_csv(\"hollow.csv\")"
   ]
  },
  {
   "cell_type": "code",
   "execution_count": 53,
   "metadata": {},
   "outputs": [
    {
     "data": {
      "text/plain": [
       "[<matplotlib.lines.Line2D at 0x17c00f1d588>]"
      ]
     },
     "execution_count": 53,
     "metadata": {},
     "output_type": "execute_result"
    },
    {
     "data": {
      "image/png": "[encoded data removed]",
      "text/plain": [
       "<Figure size 432x288 with 1 Axes>"
      ]
     },
     "metadata": {
      "needs_background": "light"
     },
     "output_type": "display_data"
    }
   ],
   "source": [
    "import matplotlib.pyplot as plt\n",
    "visits = visits[1:]\n",
    "visits = visits[visits[:,0].argsort()]\n",
    "plt.plot(visits[:,0],visits[:,5])"
   ]
  },
  {
   "cell_type": "code",
   "execution_count": 10,
   "metadata": {},
   "outputs": [
    {
     "name": "stdout",
     "output_type": "stream",
     "text": [
      "skewness\n",
      " \n",
      "Train sin valores nulos\n",
      " \n",
      "T1       5.872797\n",
      "T1C      4.758867\n",
      "T2       2.133668\n",
      "FLAIR    1.905305\n",
      "RES      1.725130\n",
      "dtype: float64\n",
      " \n",
      "Test sin valores nulos\n",
      "T1       3.429170\n",
      "T1C      4.559474\n",
      "T2       2.310329\n",
      "FLAIR    1.554804\n",
      "RES      1.472473\n",
      "dtype: float64\n",
      " \n",
      "Test sin valores nulos\n",
      "Unnamed: 0    3.791109e-17\n",
      "0             1.816928e+00\n",
      "1             1.761851e+00\n",
      "2             1.188560e+00\n",
      "3             8.874647e-01\n",
      "4             1.491430e+00\n",
      "5             1.867586e+00\n",
      "dtype: float64\n"
     ]
    }
   ],
   "source": [
    "import numpy as np\n",
    "import pandas as pd\n",
    "\n",
    "train = pd.read_csv('wtf2.csv')\n",
    "train_val = train.drop(['NAME'], axis=1)\n",
    "\n",
    "test = pd.read_csv('test2.csv')\n",
    "test_val = test.drop(['NAME'], axis=1)\n",
    "\n",
    "train_red = pd.read_csv('hollow.csv')\n",
    "train_red_val = train_red\n",
    "\n",
    "print(\"skewness\")\n",
    "print(\" \")\n",
    "print(\"Train sin valores nulos\")\n",
    "print(\" \")\n",
    "print(train_val.skew(axis=0, skipna = True))\n",
    "print(\" \")\n",
    "print(\"Test sin valores nulos\")\n",
    "print(test_val.skew(axis = 0, skipna = True)) \n",
    "print(\" \")\n",
    "print(\"DESPUES DE LA REDUCION\")\n",
    "print(\" \")\n",
    "print(\"Test sin valores nulos\")\n",
    "print(train_red_val.skew(axis = 0, skipna = True)) \n",
    "\n",
    "print(\"Kurtosis\")\n",
    "print(\" \")\n",
    "print(\"Train sin valores nulos\")\n",
    "print(\" \")\n",
    "print(train_val.skew(axis=0, skipna = True))\n",
    "print(\" \")\n",
    "print(\"Test sin valores nulos\")\n",
    "print(test_val.skew(axis = 0, skipna = True)) \n",
    "print(\" \")\n",
    "print(\"DESPUES DE LA REDUCION\")\n",
    "print(\" \")\n",
    "print(\"Test sin valores nulos\")\n",
    "print(train_red_val.skew(axis = 0, skipna = True)) "
   ]
  },
  {
   "cell_type": "code",
   "execution_count": 18,
   "metadata": {},
   "outputs": [
    {
     "data": {
      "text/plain": [
       "array([[1.0, 0.042400811013354425, 0.38914672326025496, 0.0,\n",
       "        0.021930177705065373, 0.12023272765993526, 0.021930177705065373,\n",
       "        5.482524094283296],\n",
       "       [10001.0, 0.19118747717940832, 0.4222749332340177,\n",
       "        0.0010879077318655466, 0.01776369680820378, 0.05340141234579103,\n",
       "        0.018851604540069327, 2.832725046416375],\n",
       "       [20001.0, 0.231726264010675, 0.4524262525066741,\n",
       "        0.002357659857040543, 0.01583384919598024, 0.04870848492213414,\n",
       "        0.018191509053020784, 2.6775395477180535],\n",
       "       [30001.0, 0.2636841706293631, 0.48382749344382603,\n",
       "        0.00368106586032403, 0.014861244110498585, 0.04846308257979283,\n",
       "        0.018542309970822617, 2.6136486045186524],\n",
       "       [30001.0, 0.2636841706293631, 0.48382749344382603,\n",
       "        0.00368106586032403, 0.014861244110498585, 0.04846308257979283,\n",
       "        0.018542309970822617, 2.6136486045186524],\n",
       "       [31001.0, 0.26658815021587845, 0.4871852661891204,\n",
       "        0.0038153799859137693, 0.014796529663587195, 0.04866308757571196,\n",
       "        0.018611909649500963, 2.6146208794333337],\n",
       "       [32001.0, 0.26945394675461015, 0.490599447560138,\n",
       "        0.0039508130371897765, 0.014736727253009481, 0.04890533252652773,\n",
       "        0.018687540290199256, 2.6170021183674073],\n",
       "       [33001.0, 0.27228315881195225, 0.4940763236642218,\n",
       "        0.0040873017083337595, 0.014681305668832039, 0.049192207975186,\n",
       "        0.018768607377165798, 2.620983378608797],\n",
       "       [34001.0, 0.2750876620597712, 0.49761293102969917,\n",
       "        0.004226708710474487, 0.01463223889984859, 0.049517495330138786,\n",
       "        0.018858947610323078, 2.6256764880683865],\n",
       "       [35001.0, 0.27787178780958094, 0.501212196765961,\n",
       "        0.004369563202895069, 0.014590093711525011, 0.04988093827280307,\n",
       "        0.01895965691442008, 2.6308987814471108],\n",
       "       [36001.0, 0.28064137701302216, 0.5048752712835544,\n",
       "        0.00451672945120794, 0.01455602294778038, 0.05028083933972821,\n",
       "        0.01907275239898832, 2.6362655104983834],\n",
       "       [37001.0, 0.28339799547069167, 0.5086075620447007,\n",
       "        0.00466828298280776, 0.01453025542802604, 0.050719348876453005,\n",
       "        0.0191985384108338, 2.641833862093997],\n",
       "       [38001.0, 0.2861362507577603, 0.5124232883969451,\n",
       "        0.004822922339497864, 0.014510979317864036, 0.051205823403517835,\n",
       "        0.0193339016573619, 2.6484992171261945],\n",
       "       [39001.0, 0.2888651608612321, 0.5163209442355742,\n",
       "        0.004982311532457277, 0.01450043840105382, 0.05173613339043563,\n",
       "        0.019482749933511095, 2.6554841368387865],\n",
       "       [40001.0, 0.2915892722960656, 0.5203036205109789,\n",
       "        0.005147234706122563, 0.014499987739972579, 0.0523102530793726,\n",
       "        0.019647222446095142, 2.662475737875569],\n",
       "       [50001.0, 0.3189390678948841, 0.5668646226077138,\n",
       "        0.007162584271321703, 0.015258280759921613, 0.061467080679664304,\n",
       "        0.022420865031243315, 2.741512452530728],\n",
       "       [60001.0, 0.3477209837639683, 0.644016895509711,\n",
       "        0.010190136077762823, 0.01866200068888558, 0.08779126731724092,\n",
       "        0.0288521367666484, 3.042799499644794]], dtype=object)"
      ]
     },
     "execution_count": 18,
     "metadata": {},
     "output_type": "execute_result"
    }
   ],
   "source": []
  },
  {
   "cell_type": "code",
   "execution_count": null,
   "metadata": {},
   "outputs": [],
   "source": []
  }
 ],
 "metadata": {
  "kernelspec": {
   "display_name": "Python 3",
   "language": "python",
   "name": "python3"
  },
  "language_info": {
   "codemirror_mode": {
    "name": "ipython",
    "version": 3
   },
   "file_extension": ".py",
   "mimetype": "text/x-python",
   "name": "python",
   "nbconvert_exporter": "python",
   "pygments_lexer": "ipython3",
   "version": "3.7.0"
  }
 },
 "nbformat": 4,
 "nbformat_minor": 2
}
